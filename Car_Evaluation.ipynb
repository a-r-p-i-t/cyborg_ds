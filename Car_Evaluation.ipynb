{
 "cells": [
  {
   "cell_type": "code",
   "execution_count": 105,
   "id": "20382143-832a-48e1-b3e8-c0d301825b4b",
   "metadata": {},
   "outputs": [],
   "source": [
    "import pandas as pd\n",
    "import seaborn as sns\n",
    "from sklearn.preprocessing import LabelEncoder\n",
    "import matplotlib.pyplot as plt\n",
    "%matplotlib inline\n",
    "from sklearn.tree import DecisionTreeClassifier\n",
    "from sklearn.ensemble import RandomForestClassifier\n",
    "from sklearn.linear_model import LogisticRegression\n",
    "from sklearn.neighbors import KNeighborsClassifier\n",
    "from sklearn.naive_bayes import GaussianNB\n",
    "from sklearn.svm import SVC\n",
    "from sklearn.metrics import accuracy_score, precision_score, recall_score, f1_score,confusion_matrix,classification_report\n"
   ]
  },
  {
   "cell_type": "code",
   "execution_count": 29,
   "id": "b00a50d1-2108-408d-b3ca-2f125feb5ebb",
   "metadata": {},
   "outputs": [],
   "source": [
    "df=pd.read_csv(\"https://archive.ics.uci.edu/ml/machine-learning-databases/car/car.data\",names=[\"buying\",\"maint\",\"doors\",\"persons\",\"lug_boot\",\"safety\",\"class\"])"
   ]
  },
  {
   "cell_type": "code",
   "execution_count": 30,
   "id": "8b697436-e058-4394-a998-91a7df476571",
   "metadata": {},
   "outputs": [
    {
     "data": {
      "text/html": [
       "<div>\n",
       "<style scoped>\n",
       "    .dataframe tbody tr th:only-of-type {\n",
       "        vertical-align: middle;\n",
       "    }\n",
       "\n",
       "    .dataframe tbody tr th {\n",
       "        vertical-align: top;\n",
       "    }\n",
       "\n",
       "    .dataframe thead th {\n",
       "        text-align: right;\n",
       "    }\n",
       "</style>\n",
       "<table border=\"1\" class=\"dataframe\">\n",
       "  <thead>\n",
       "    <tr style=\"text-align: right;\">\n",
       "      <th></th>\n",
       "      <th>buying</th>\n",
       "      <th>maint</th>\n",
       "      <th>doors</th>\n",
       "      <th>persons</th>\n",
       "      <th>lug_boot</th>\n",
       "      <th>safety</th>\n",
       "      <th>class</th>\n",
       "    </tr>\n",
       "  </thead>\n",
       "  <tbody>\n",
       "    <tr>\n",
       "      <th>0</th>\n",
       "      <td>vhigh</td>\n",
       "      <td>vhigh</td>\n",
       "      <td>2</td>\n",
       "      <td>2</td>\n",
       "      <td>small</td>\n",
       "      <td>low</td>\n",
       "      <td>unacc</td>\n",
       "    </tr>\n",
       "    <tr>\n",
       "      <th>1</th>\n",
       "      <td>vhigh</td>\n",
       "      <td>vhigh</td>\n",
       "      <td>2</td>\n",
       "      <td>2</td>\n",
       "      <td>small</td>\n",
       "      <td>med</td>\n",
       "      <td>unacc</td>\n",
       "    </tr>\n",
       "    <tr>\n",
       "      <th>2</th>\n",
       "      <td>vhigh</td>\n",
       "      <td>vhigh</td>\n",
       "      <td>2</td>\n",
       "      <td>2</td>\n",
       "      <td>small</td>\n",
       "      <td>high</td>\n",
       "      <td>unacc</td>\n",
       "    </tr>\n",
       "    <tr>\n",
       "      <th>3</th>\n",
       "      <td>vhigh</td>\n",
       "      <td>vhigh</td>\n",
       "      <td>2</td>\n",
       "      <td>2</td>\n",
       "      <td>med</td>\n",
       "      <td>low</td>\n",
       "      <td>unacc</td>\n",
       "    </tr>\n",
       "    <tr>\n",
       "      <th>4</th>\n",
       "      <td>vhigh</td>\n",
       "      <td>vhigh</td>\n",
       "      <td>2</td>\n",
       "      <td>2</td>\n",
       "      <td>med</td>\n",
       "      <td>med</td>\n",
       "      <td>unacc</td>\n",
       "    </tr>\n",
       "  </tbody>\n",
       "</table>\n",
       "</div>"
      ],
      "text/plain": [
       "  buying  maint doors persons lug_boot safety  class\n",
       "0  vhigh  vhigh     2       2    small    low  unacc\n",
       "1  vhigh  vhigh     2       2    small    med  unacc\n",
       "2  vhigh  vhigh     2       2    small   high  unacc\n",
       "3  vhigh  vhigh     2       2      med    low  unacc\n",
       "4  vhigh  vhigh     2       2      med    med  unacc"
      ]
     },
     "execution_count": 30,
     "metadata": {},
     "output_type": "execute_result"
    }
   ],
   "source": [
    "df.head()"
   ]
  },
  {
   "cell_type": "code",
   "execution_count": 31,
   "id": "9da99ae4-4c0b-48d8-9088-44b5c3c93d38",
   "metadata": {},
   "outputs": [
    {
     "data": {
      "text/html": [
       "<div>\n",
       "<style scoped>\n",
       "    .dataframe tbody tr th:only-of-type {\n",
       "        vertical-align: middle;\n",
       "    }\n",
       "\n",
       "    .dataframe tbody tr th {\n",
       "        vertical-align: top;\n",
       "    }\n",
       "\n",
       "    .dataframe thead th {\n",
       "        text-align: right;\n",
       "    }\n",
       "</style>\n",
       "<table border=\"1\" class=\"dataframe\">\n",
       "  <thead>\n",
       "    <tr style=\"text-align: right;\">\n",
       "      <th></th>\n",
       "      <th>buying</th>\n",
       "      <th>maint</th>\n",
       "      <th>doors</th>\n",
       "      <th>persons</th>\n",
       "      <th>lug_boot</th>\n",
       "      <th>safety</th>\n",
       "      <th>class</th>\n",
       "    </tr>\n",
       "  </thead>\n",
       "  <tbody>\n",
       "    <tr>\n",
       "      <th>1723</th>\n",
       "      <td>low</td>\n",
       "      <td>low</td>\n",
       "      <td>5more</td>\n",
       "      <td>more</td>\n",
       "      <td>med</td>\n",
       "      <td>med</td>\n",
       "      <td>good</td>\n",
       "    </tr>\n",
       "    <tr>\n",
       "      <th>1724</th>\n",
       "      <td>low</td>\n",
       "      <td>low</td>\n",
       "      <td>5more</td>\n",
       "      <td>more</td>\n",
       "      <td>med</td>\n",
       "      <td>high</td>\n",
       "      <td>vgood</td>\n",
       "    </tr>\n",
       "    <tr>\n",
       "      <th>1725</th>\n",
       "      <td>low</td>\n",
       "      <td>low</td>\n",
       "      <td>5more</td>\n",
       "      <td>more</td>\n",
       "      <td>big</td>\n",
       "      <td>low</td>\n",
       "      <td>unacc</td>\n",
       "    </tr>\n",
       "    <tr>\n",
       "      <th>1726</th>\n",
       "      <td>low</td>\n",
       "      <td>low</td>\n",
       "      <td>5more</td>\n",
       "      <td>more</td>\n",
       "      <td>big</td>\n",
       "      <td>med</td>\n",
       "      <td>good</td>\n",
       "    </tr>\n",
       "    <tr>\n",
       "      <th>1727</th>\n",
       "      <td>low</td>\n",
       "      <td>low</td>\n",
       "      <td>5more</td>\n",
       "      <td>more</td>\n",
       "      <td>big</td>\n",
       "      <td>high</td>\n",
       "      <td>vgood</td>\n",
       "    </tr>\n",
       "  </tbody>\n",
       "</table>\n",
       "</div>"
      ],
      "text/plain": [
       "     buying maint  doors persons lug_boot safety  class\n",
       "1723    low   low  5more    more      med    med   good\n",
       "1724    low   low  5more    more      med   high  vgood\n",
       "1725    low   low  5more    more      big    low  unacc\n",
       "1726    low   low  5more    more      big    med   good\n",
       "1727    low   low  5more    more      big   high  vgood"
      ]
     },
     "execution_count": 31,
     "metadata": {},
     "output_type": "execute_result"
    }
   ],
   "source": [
    "df.tail()"
   ]
  },
  {
   "cell_type": "code",
   "execution_count": 32,
   "id": "0e78cf32-fcab-4e21-ad99-092b0db65d07",
   "metadata": {},
   "outputs": [
    {
     "data": {
      "text/plain": [
       "(1728, 7)"
      ]
     },
     "execution_count": 32,
     "metadata": {},
     "output_type": "execute_result"
    }
   ],
   "source": [
    "df.shape"
   ]
  },
  {
   "cell_type": "code",
   "execution_count": 33,
   "id": "95ca6517-2f00-478f-9a5f-be0b963a9299",
   "metadata": {},
   "outputs": [
    {
     "data": {
      "text/plain": [
       "buying      0\n",
       "maint       0\n",
       "doors       0\n",
       "persons     0\n",
       "lug_boot    0\n",
       "safety      0\n",
       "class       0\n",
       "dtype: int64"
      ]
     },
     "execution_count": 33,
     "metadata": {},
     "output_type": "execute_result"
    }
   ],
   "source": [
    "df.isnull().sum()"
   ]
  },
  {
   "cell_type": "code",
   "execution_count": 34,
   "id": "981ca48d-1fdd-4f31-95df-ed4bbfdd10ba",
   "metadata": {},
   "outputs": [
    {
     "data": {
      "text/plain": [
       "0"
      ]
     },
     "execution_count": 34,
     "metadata": {},
     "output_type": "execute_result"
    }
   ],
   "source": [
    "df.duplicated().sum()"
   ]
  },
  {
   "cell_type": "code",
   "execution_count": 35,
   "id": "894340cc-831e-430f-9436-87ee15414a9e",
   "metadata": {},
   "outputs": [
    {
     "data": {
      "text/plain": [
       "buying      object\n",
       "maint       object\n",
       "doors       object\n",
       "persons     object\n",
       "lug_boot    object\n",
       "safety      object\n",
       "class       object\n",
       "dtype: object"
      ]
     },
     "execution_count": 35,
     "metadata": {},
     "output_type": "execute_result"
    }
   ],
   "source": [
    "df.dtypes"
   ]
  },
  {
   "cell_type": "code",
   "execution_count": 36,
   "id": "afd90343-6e80-4bd2-9d14-06c9baa81394",
   "metadata": {},
   "outputs": [
    {
     "data": {
      "text/html": [
       "<div>\n",
       "<style scoped>\n",
       "    .dataframe tbody tr th:only-of-type {\n",
       "        vertical-align: middle;\n",
       "    }\n",
       "\n",
       "    .dataframe tbody tr th {\n",
       "        vertical-align: top;\n",
       "    }\n",
       "\n",
       "    .dataframe thead th {\n",
       "        text-align: right;\n",
       "    }\n",
       "</style>\n",
       "<table border=\"1\" class=\"dataframe\">\n",
       "  <thead>\n",
       "    <tr style=\"text-align: right;\">\n",
       "      <th></th>\n",
       "      <th>buying</th>\n",
       "      <th>maint</th>\n",
       "      <th>doors</th>\n",
       "      <th>persons</th>\n",
       "      <th>lug_boot</th>\n",
       "      <th>safety</th>\n",
       "      <th>class</th>\n",
       "    </tr>\n",
       "  </thead>\n",
       "  <tbody>\n",
       "    <tr>\n",
       "      <th>0</th>\n",
       "      <td>vhigh</td>\n",
       "      <td>vhigh</td>\n",
       "      <td>2</td>\n",
       "      <td>2</td>\n",
       "      <td>small</td>\n",
       "      <td>low</td>\n",
       "      <td>unacc</td>\n",
       "    </tr>\n",
       "    <tr>\n",
       "      <th>1</th>\n",
       "      <td>vhigh</td>\n",
       "      <td>vhigh</td>\n",
       "      <td>2</td>\n",
       "      <td>2</td>\n",
       "      <td>small</td>\n",
       "      <td>med</td>\n",
       "      <td>unacc</td>\n",
       "    </tr>\n",
       "    <tr>\n",
       "      <th>2</th>\n",
       "      <td>vhigh</td>\n",
       "      <td>vhigh</td>\n",
       "      <td>2</td>\n",
       "      <td>2</td>\n",
       "      <td>small</td>\n",
       "      <td>high</td>\n",
       "      <td>unacc</td>\n",
       "    </tr>\n",
       "    <tr>\n",
       "      <th>3</th>\n",
       "      <td>vhigh</td>\n",
       "      <td>vhigh</td>\n",
       "      <td>2</td>\n",
       "      <td>2</td>\n",
       "      <td>med</td>\n",
       "      <td>low</td>\n",
       "      <td>unacc</td>\n",
       "    </tr>\n",
       "    <tr>\n",
       "      <th>4</th>\n",
       "      <td>vhigh</td>\n",
       "      <td>vhigh</td>\n",
       "      <td>2</td>\n",
       "      <td>2</td>\n",
       "      <td>med</td>\n",
       "      <td>med</td>\n",
       "      <td>unacc</td>\n",
       "    </tr>\n",
       "  </tbody>\n",
       "</table>\n",
       "</div>"
      ],
      "text/plain": [
       "  buying  maint doors persons lug_boot safety  class\n",
       "0  vhigh  vhigh     2       2    small    low  unacc\n",
       "1  vhigh  vhigh     2       2    small    med  unacc\n",
       "2  vhigh  vhigh     2       2    small   high  unacc\n",
       "3  vhigh  vhigh     2       2      med    low  unacc\n",
       "4  vhigh  vhigh     2       2      med    med  unacc"
      ]
     },
     "execution_count": 36,
     "metadata": {},
     "output_type": "execute_result"
    }
   ],
   "source": [
    "df.head()"
   ]
  },
  {
   "cell_type": "code",
   "execution_count": 37,
   "id": "5d6219c3-7913-48f7-b7ee-697614e9a880",
   "metadata": {},
   "outputs": [
    {
     "name": "stdout",
     "output_type": "stream",
     "text": [
      "Requirement already satisfied: category_encoders in /opt/conda/lib/python3.10/site-packages (2.6.1)\n",
      "Requirement already satisfied: statsmodels>=0.9.0 in /opt/conda/lib/python3.10/site-packages (from category_encoders) (0.13.5)\n",
      "Requirement already satisfied: numpy>=1.14.0 in /opt/conda/lib/python3.10/site-packages (from category_encoders) (1.23.5)\n",
      "Requirement already satisfied: scipy>=1.0.0 in /opt/conda/lib/python3.10/site-packages (from category_encoders) (1.9.3)\n",
      "Requirement already satisfied: pandas>=1.0.5 in /opt/conda/lib/python3.10/site-packages (from category_encoders) (1.5.2)\n",
      "Requirement already satisfied: patsy>=0.5.1 in /opt/conda/lib/python3.10/site-packages (from category_encoders) (0.5.3)\n",
      "Requirement already satisfied: scikit-learn>=0.20.0 in /opt/conda/lib/python3.10/site-packages (from category_encoders) (1.2.0)\n",
      "Requirement already satisfied: python-dateutil>=2.8.1 in /opt/conda/lib/python3.10/site-packages (from pandas>=1.0.5->category_encoders) (2.8.2)\n",
      "Requirement already satisfied: pytz>=2020.1 in /opt/conda/lib/python3.10/site-packages (from pandas>=1.0.5->category_encoders) (2022.6)\n",
      "Requirement already satisfied: six in /opt/conda/lib/python3.10/site-packages (from patsy>=0.5.1->category_encoders) (1.16.0)\n",
      "Requirement already satisfied: joblib>=1.1.1 in /opt/conda/lib/python3.10/site-packages (from scikit-learn>=0.20.0->category_encoders) (1.2.0)\n",
      "Requirement already satisfied: threadpoolctl>=2.0.0 in /opt/conda/lib/python3.10/site-packages (from scikit-learn>=0.20.0->category_encoders) (3.1.0)\n",
      "Requirement already satisfied: packaging>=21.3 in /opt/conda/lib/python3.10/site-packages (from statsmodels>=0.9.0->category_encoders) (22.0)\n",
      "Note: you may need to restart the kernel to use updated packages.\n"
     ]
    }
   ],
   "source": [
    "pip install category_encoders"
   ]
  },
  {
   "cell_type": "code",
   "execution_count": 60,
   "id": "b5848780-82b0-448d-bd45-60867659f644",
   "metadata": {},
   "outputs": [],
   "source": [
    "import category_encoders as ce"
   ]
  },
  {
   "cell_type": "code",
   "execution_count": 61,
   "id": "70792dee-497c-481f-9d59-9f37f799834b",
   "metadata": {},
   "outputs": [],
   "source": [
    "encoder = ce.OrdinalEncoder(cols=[\"buying\",\"maint\",\"doors\",\"persons\",\"lug_boot\",\"safety\",\"class\"])"
   ]
  },
  {
   "cell_type": "code",
   "execution_count": 43,
   "id": "4ce2d335-9dbe-4a9b-a132-139e01f3435d",
   "metadata": {},
   "outputs": [],
   "source": [
    "new_df1=encoder.fit_transform(df)"
   ]
  },
  {
   "cell_type": "code",
   "execution_count": 44,
   "id": "64f2e56b-45e2-4feb-9a2c-2d86cf0b2cc1",
   "metadata": {},
   "outputs": [
    {
     "data": {
      "text/html": [
       "<div>\n",
       "<style scoped>\n",
       "    .dataframe tbody tr th:only-of-type {\n",
       "        vertical-align: middle;\n",
       "    }\n",
       "\n",
       "    .dataframe tbody tr th {\n",
       "        vertical-align: top;\n",
       "    }\n",
       "\n",
       "    .dataframe thead th {\n",
       "        text-align: right;\n",
       "    }\n",
       "</style>\n",
       "<table border=\"1\" class=\"dataframe\">\n",
       "  <thead>\n",
       "    <tr style=\"text-align: right;\">\n",
       "      <th></th>\n",
       "      <th>buying</th>\n",
       "      <th>maint</th>\n",
       "      <th>doors</th>\n",
       "      <th>persons</th>\n",
       "      <th>lug_boot</th>\n",
       "      <th>safety</th>\n",
       "      <th>class</th>\n",
       "    </tr>\n",
       "  </thead>\n",
       "  <tbody>\n",
       "    <tr>\n",
       "      <th>0</th>\n",
       "      <td>1</td>\n",
       "      <td>1</td>\n",
       "      <td>1</td>\n",
       "      <td>1</td>\n",
       "      <td>1</td>\n",
       "      <td>1</td>\n",
       "      <td>1</td>\n",
       "    </tr>\n",
       "    <tr>\n",
       "      <th>1</th>\n",
       "      <td>1</td>\n",
       "      <td>1</td>\n",
       "      <td>1</td>\n",
       "      <td>1</td>\n",
       "      <td>1</td>\n",
       "      <td>2</td>\n",
       "      <td>1</td>\n",
       "    </tr>\n",
       "    <tr>\n",
       "      <th>2</th>\n",
       "      <td>1</td>\n",
       "      <td>1</td>\n",
       "      <td>1</td>\n",
       "      <td>1</td>\n",
       "      <td>1</td>\n",
       "      <td>3</td>\n",
       "      <td>1</td>\n",
       "    </tr>\n",
       "    <tr>\n",
       "      <th>3</th>\n",
       "      <td>1</td>\n",
       "      <td>1</td>\n",
       "      <td>1</td>\n",
       "      <td>1</td>\n",
       "      <td>2</td>\n",
       "      <td>1</td>\n",
       "      <td>1</td>\n",
       "    </tr>\n",
       "    <tr>\n",
       "      <th>4</th>\n",
       "      <td>1</td>\n",
       "      <td>1</td>\n",
       "      <td>1</td>\n",
       "      <td>1</td>\n",
       "      <td>2</td>\n",
       "      <td>2</td>\n",
       "      <td>1</td>\n",
       "    </tr>\n",
       "    <tr>\n",
       "      <th>...</th>\n",
       "      <td>...</td>\n",
       "      <td>...</td>\n",
       "      <td>...</td>\n",
       "      <td>...</td>\n",
       "      <td>...</td>\n",
       "      <td>...</td>\n",
       "      <td>...</td>\n",
       "    </tr>\n",
       "    <tr>\n",
       "      <th>1723</th>\n",
       "      <td>4</td>\n",
       "      <td>4</td>\n",
       "      <td>4</td>\n",
       "      <td>3</td>\n",
       "      <td>2</td>\n",
       "      <td>2</td>\n",
       "      <td>4</td>\n",
       "    </tr>\n",
       "    <tr>\n",
       "      <th>1724</th>\n",
       "      <td>4</td>\n",
       "      <td>4</td>\n",
       "      <td>4</td>\n",
       "      <td>3</td>\n",
       "      <td>2</td>\n",
       "      <td>3</td>\n",
       "      <td>3</td>\n",
       "    </tr>\n",
       "    <tr>\n",
       "      <th>1725</th>\n",
       "      <td>4</td>\n",
       "      <td>4</td>\n",
       "      <td>4</td>\n",
       "      <td>3</td>\n",
       "      <td>3</td>\n",
       "      <td>1</td>\n",
       "      <td>1</td>\n",
       "    </tr>\n",
       "    <tr>\n",
       "      <th>1726</th>\n",
       "      <td>4</td>\n",
       "      <td>4</td>\n",
       "      <td>4</td>\n",
       "      <td>3</td>\n",
       "      <td>3</td>\n",
       "      <td>2</td>\n",
       "      <td>4</td>\n",
       "    </tr>\n",
       "    <tr>\n",
       "      <th>1727</th>\n",
       "      <td>4</td>\n",
       "      <td>4</td>\n",
       "      <td>4</td>\n",
       "      <td>3</td>\n",
       "      <td>3</td>\n",
       "      <td>3</td>\n",
       "      <td>3</td>\n",
       "    </tr>\n",
       "  </tbody>\n",
       "</table>\n",
       "<p>1728 rows × 7 columns</p>\n",
       "</div>"
      ],
      "text/plain": [
       "      buying  maint  doors  persons  lug_boot  safety  class\n",
       "0          1      1      1        1         1       1      1\n",
       "1          1      1      1        1         1       2      1\n",
       "2          1      1      1        1         1       3      1\n",
       "3          1      1      1        1         2       1      1\n",
       "4          1      1      1        1         2       2      1\n",
       "...      ...    ...    ...      ...       ...     ...    ...\n",
       "1723       4      4      4        3         2       2      4\n",
       "1724       4      4      4        3         2       3      3\n",
       "1725       4      4      4        3         3       1      1\n",
       "1726       4      4      4        3         3       2      4\n",
       "1727       4      4      4        3         3       3      3\n",
       "\n",
       "[1728 rows x 7 columns]"
      ]
     },
     "execution_count": 44,
     "metadata": {},
     "output_type": "execute_result"
    }
   ],
   "source": [
    "new_df1"
   ]
  },
  {
   "cell_type": "code",
   "execution_count": 45,
   "id": "f7ce974e-0e1b-4a07-8878-4e0d221b00fa",
   "metadata": {},
   "outputs": [
    {
     "data": {
      "text/html": [
       "<div>\n",
       "<style scoped>\n",
       "    .dataframe tbody tr th:only-of-type {\n",
       "        vertical-align: middle;\n",
       "    }\n",
       "\n",
       "    .dataframe tbody tr th {\n",
       "        vertical-align: top;\n",
       "    }\n",
       "\n",
       "    .dataframe thead th {\n",
       "        text-align: right;\n",
       "    }\n",
       "</style>\n",
       "<table border=\"1\" class=\"dataframe\">\n",
       "  <thead>\n",
       "    <tr style=\"text-align: right;\">\n",
       "      <th></th>\n",
       "      <th>buying</th>\n",
       "      <th>maint</th>\n",
       "      <th>doors</th>\n",
       "      <th>persons</th>\n",
       "      <th>lug_boot</th>\n",
       "      <th>safety</th>\n",
       "      <th>class</th>\n",
       "    </tr>\n",
       "  </thead>\n",
       "  <tbody>\n",
       "    <tr>\n",
       "      <th>buying</th>\n",
       "      <td>1.000000e+00</td>\n",
       "      <td>-1.677465e-15</td>\n",
       "      <td>-4.011400e-15</td>\n",
       "      <td>3.012318e-16</td>\n",
       "      <td>1.655368e-16</td>\n",
       "      <td>1.560634e-15</td>\n",
       "      <td>0.286532</td>\n",
       "    </tr>\n",
       "    <tr>\n",
       "      <th>maint</th>\n",
       "      <td>-1.677465e-15</td>\n",
       "      <td>1.000000e+00</td>\n",
       "      <td>-7.726330e-16</td>\n",
       "      <td>-1.295015e-16</td>\n",
       "      <td>1.148622e-16</td>\n",
       "      <td>2.582993e-16</td>\n",
       "      <td>0.254656</td>\n",
       "    </tr>\n",
       "    <tr>\n",
       "      <th>doors</th>\n",
       "      <td>-4.011400e-15</td>\n",
       "      <td>-7.726330e-16</td>\n",
       "      <td>1.000000e+00</td>\n",
       "      <td>-4.617011e-17</td>\n",
       "      <td>6.080942e-17</td>\n",
       "      <td>9.909683e-17</td>\n",
       "      <td>0.056475</td>\n",
       "    </tr>\n",
       "    <tr>\n",
       "      <th>persons</th>\n",
       "      <td>3.012318e-16</td>\n",
       "      <td>-1.295015e-16</td>\n",
       "      <td>-4.617011e-17</td>\n",
       "      <td>1.000000e+00</td>\n",
       "      <td>3.854941e-19</td>\n",
       "      <td>1.002285e-17</td>\n",
       "      <td>0.336842</td>\n",
       "    </tr>\n",
       "    <tr>\n",
       "      <th>lug_boot</th>\n",
       "      <td>1.655368e-16</td>\n",
       "      <td>1.148622e-16</td>\n",
       "      <td>6.080942e-17</td>\n",
       "      <td>3.854941e-19</td>\n",
       "      <td>1.000000e+00</td>\n",
       "      <td>7.131641e-18</td>\n",
       "      <td>0.121453</td>\n",
       "    </tr>\n",
       "    <tr>\n",
       "      <th>safety</th>\n",
       "      <td>1.560634e-15</td>\n",
       "      <td>2.582993e-16</td>\n",
       "      <td>9.909683e-17</td>\n",
       "      <td>1.002285e-17</td>\n",
       "      <td>7.131641e-18</td>\n",
       "      <td>1.000000e+00</td>\n",
       "      <td>0.402313</td>\n",
       "    </tr>\n",
       "    <tr>\n",
       "      <th>class</th>\n",
       "      <td>2.865317e-01</td>\n",
       "      <td>2.546564e-01</td>\n",
       "      <td>5.647481e-02</td>\n",
       "      <td>3.368420e-01</td>\n",
       "      <td>1.214529e-01</td>\n",
       "      <td>4.023127e-01</td>\n",
       "      <td>1.000000</td>\n",
       "    </tr>\n",
       "  </tbody>\n",
       "</table>\n",
       "</div>"
      ],
      "text/plain": [
       "                buying         maint         doors       persons  \\\n",
       "buying    1.000000e+00 -1.677465e-15 -4.011400e-15  3.012318e-16   \n",
       "maint    -1.677465e-15  1.000000e+00 -7.726330e-16 -1.295015e-16   \n",
       "doors    -4.011400e-15 -7.726330e-16  1.000000e+00 -4.617011e-17   \n",
       "persons   3.012318e-16 -1.295015e-16 -4.617011e-17  1.000000e+00   \n",
       "lug_boot  1.655368e-16  1.148622e-16  6.080942e-17  3.854941e-19   \n",
       "safety    1.560634e-15  2.582993e-16  9.909683e-17  1.002285e-17   \n",
       "class     2.865317e-01  2.546564e-01  5.647481e-02  3.368420e-01   \n",
       "\n",
       "              lug_boot        safety     class  \n",
       "buying    1.655368e-16  1.560634e-15  0.286532  \n",
       "maint     1.148622e-16  2.582993e-16  0.254656  \n",
       "doors     6.080942e-17  9.909683e-17  0.056475  \n",
       "persons   3.854941e-19  1.002285e-17  0.336842  \n",
       "lug_boot  1.000000e+00  7.131641e-18  0.121453  \n",
       "safety    7.131641e-18  1.000000e+00  0.402313  \n",
       "class     1.214529e-01  4.023127e-01  1.000000  "
      ]
     },
     "execution_count": 45,
     "metadata": {},
     "output_type": "execute_result"
    }
   ],
   "source": [
    "new_df1.corr()"
   ]
  },
  {
   "cell_type": "code",
   "execution_count": 46,
   "id": "bd9578b9-8915-4411-a511-301e5a816058",
   "metadata": {},
   "outputs": [
    {
     "data": {
      "image/png": "[encoded data removed]",
      "text/plain": [
       "<Figure size 640x480 with 2 Axes>"
      ]
     },
     "metadata": {},
     "output_type": "display_data"
    }
   ],
   "source": [
    "\n",
    "sns.heatmap(new_df1.corr(), annot=True, cmap='YlGnBu')\n",
    "plt.title(\"visualisation\")\n",
    "plt.xlabel('x axis parameters')\n",
    "plt.ylabel('y axis parameters')\n",
    "plt.show()"
   ]
  },
  {
   "cell_type": "code",
   "execution_count": 47,
   "id": "fef5a74b-42e7-4002-b772-283bb6ea7309",
   "metadata": {},
   "outputs": [
    {
     "data": {
      "text/plain": [
       "<seaborn.axisgrid.PairGrid at 0x7fe240319bd0>"
      ]
     },
     "execution_count": 47,
     "metadata": {},
     "output_type": "execute_result"
    },
    {
     "data": {
      "image/png": "[encoded data removed]",
      "text/plain": [
       "<Figure size 1750x1750 with 56 Axes>"
      ]
     },
     "metadata": {},
     "output_type": "display_data"
    }
   ],
   "source": [
    "sns.pairplot(new_df1)"
   ]
  },
  {
   "cell_type": "code",
   "execution_count": null,
   "id": "7444f64c-0242-4607-b244-0b80228c37f4",
   "metadata": {},
   "outputs": [],
   "source": []
  },
  {
   "cell_type": "code",
   "execution_count": 69,
   "id": "475696c2-cda0-468f-9a6f-abc5559018cd",
   "metadata": {},
   "outputs": [],
   "source": [
    "x=new_df1.drop([\"class\"],axis=1)\n",
    "y=new_df1[\"class\"]"
   ]
  },
  {
   "cell_type": "code",
   "execution_count": 71,
   "id": "ad722473-41b5-4b7a-ac31-1016a8febd7c",
   "metadata": {},
   "outputs": [],
   "source": [
    "from sklearn.model_selection import train_test_split\n",
    "\n",
    "x_train, x_test, y_train, y_test = train_test_split(x, y, test_size = 0.2, random_state = 0)"
   ]
  },
  {
   "cell_type": "code",
   "execution_count": 72,
   "id": "5fce6102-dfde-4c45-89f8-3b474bd70fd9",
   "metadata": {},
   "outputs": [
    {
     "data": {
      "text/plain": [
       "(1382, 6)"
      ]
     },
     "execution_count": 72,
     "metadata": {},
     "output_type": "execute_result"
    }
   ],
   "source": [
    "x_train.shape"
   ]
  },
  {
   "cell_type": "code",
   "execution_count": 73,
   "id": "f15871e2-e25b-4f22-8c04-c3066fa716d1",
   "metadata": {},
   "outputs": [
    {
     "data": {
      "text/plain": [
       "(346, 6)"
      ]
     },
     "execution_count": 73,
     "metadata": {},
     "output_type": "execute_result"
    }
   ],
   "source": [
    "x_test.shape"
   ]
  },
  {
   "cell_type": "code",
   "execution_count": 74,
   "id": "f8a057e4-34d7-4de9-b043-24e04956d600",
   "metadata": {},
   "outputs": [
    {
     "data": {
      "text/plain": [
       "(1382,)"
      ]
     },
     "execution_count": 74,
     "metadata": {},
     "output_type": "execute_result"
    }
   ],
   "source": [
    "y_train.shape"
   ]
  },
  {
   "cell_type": "code",
   "execution_count": null,
   "id": "f8257e07-6881-42e0-b724-9c077e6256ee",
   "metadata": {},
   "outputs": [],
   "source": []
  },
  {
   "cell_type": "markdown",
   "id": "c205473d-fdfd-409a-8b29-492f1fe554f8",
   "metadata": {},
   "source": [
    "                                                     **DECISION TREE CLASSIFIER**"
   ]
  },
  {
   "cell_type": "code",
   "execution_count": 75,
   "id": "a1bd99c1-609f-4c81-950f-9e55480c54de",
   "metadata": {},
   "outputs": [
    {
     "data": {
      "text/html": [
       "<style>#sk-container-id-1 {color: black;background-color: white;}#sk-container-id-1 pre{padding: 0;}#sk-container-id-1 div.sk-toggleable {background-color: white;}#sk-container-id-1 label.sk-toggleable__label {cursor: pointer;display: block;width: 100%;margin-bottom: 0;padding: 0.3em;box-sizing: border-box;text-align: center;}#sk-container-id-1 label.sk-toggleable__label-arrow:before {content: \"▸\";float: left;margin-right: 0.25em;color: #696969;}#sk-container-id-1 label.sk-toggleable__label-arrow:hover:before {color: black;}#sk-container-id-1 div.sk-estimator:hover label.sk-toggleable__label-arrow:before {color: black;}#sk-container-id-1 div.sk-toggleable__content {max-height: 0;max-width: 0;overflow: hidden;text-align: left;background-color: #f0f8ff;}#sk-container-id-1 div.sk-toggleable__content pre {margin: 0.2em;color: black;border-radius: 0.25em;background-color: #f0f8ff;}#sk-container-id-1 input.sk-toggleable__control:checked~div.sk-toggleable__content {max-height: 200px;max-width: 100%;overflow: auto;}#sk-container-id-1 input.sk-toggleable__control:checked~label.sk-toggleable__label-arrow:before {content: \"▾\";}#sk-container-id-1 div.sk-estimator input.sk-toggleable__control:checked~label.sk-toggleable__label {background-color: #d4ebff;}#sk-container-id-1 div.sk-label input.sk-toggleable__control:checked~label.sk-toggleable__label {background-color: #d4ebff;}#sk-container-id-1 input.sk-hidden--visually {border: 0;clip: rect(1px 1px 1px 1px);clip: rect(1px, 1px, 1px, 1px);height: 1px;margin: -1px;overflow: hidden;padding: 0;position: absolute;width: 1px;}#sk-container-id-1 div.sk-estimator {font-family: monospace;background-color: #f0f8ff;border: 1px dotted black;border-radius: 0.25em;box-sizing: border-box;margin-bottom: 0.5em;}#sk-container-id-1 div.sk-estimator:hover {background-color: #d4ebff;}#sk-container-id-1 div.sk-parallel-item::after {content: \"\";width: 100%;border-bottom: 1px solid gray;flex-grow: 1;}#sk-container-id-1 div.sk-label:hover label.sk-toggleable__label {background-color: #d4ebff;}#sk-container-id-1 div.sk-serial::before {content: \"\";position: absolute;border-left: 1px solid gray;box-sizing: border-box;top: 0;bottom: 0;left: 50%;z-index: 0;}#sk-container-id-1 div.sk-serial {display: flex;flex-direction: column;align-items: center;background-color: white;padding-right: 0.2em;padding-left: 0.2em;position: relative;}#sk-container-id-1 div.sk-item {position: relative;z-index: 1;}#sk-container-id-1 div.sk-parallel {display: flex;align-items: stretch;justify-content: center;background-color: white;position: relative;}#sk-container-id-1 div.sk-item::before, #sk-container-id-1 div.sk-parallel-item::before {content: \"\";position: absolute;border-left: 1px solid gray;box-sizing: border-box;top: 0;bottom: 0;left: 50%;z-index: -1;}#sk-container-id-1 div.sk-parallel-item {display: flex;flex-direction: column;z-index: 1;position: relative;background-color: white;}#sk-container-id-1 div.sk-parallel-item:first-child::after {align-self: flex-end;width: 50%;}#sk-container-id-1 div.sk-parallel-item:last-child::after {align-self: flex-start;width: 50%;}#sk-container-id-1 div.sk-parallel-item:only-child::after {width: 0;}#sk-container-id-1 div.sk-dashed-wrapped {border: 1px dashed gray;margin: 0 0.4em 0.5em 0.4em;box-sizing: border-box;padding-bottom: 0.4em;background-color: white;}#sk-container-id-1 div.sk-label label {font-family: monospace;font-weight: bold;display: inline-block;line-height: 1.2em;}#sk-container-id-1 div.sk-label-container {text-align: center;}#sk-container-id-1 div.sk-container {/* jupyter's `normalize.less` sets `[hidden] { display: none; }` but bootstrap.min.css set `[hidden] { display: none !important; }` so we also need the `!important` here to be able to override the default hidden behavior on the sphinx rendered scikit-learn.org. See: https://github.com/scikit-learn/scikit-learn/issues/21755 */display: inline-block !important;position: relative;}#sk-container-id-1 div.sk-text-repr-fallback {display: none;}</style><div id=\"sk-container-id-1\" class=\"sk-top-container\"><div class=\"sk-text-repr-fallback\"><pre>DecisionTreeClassifier(criterion=&#x27;entropy&#x27;, max_depth=3, random_state=0)</pre><b>In a Jupyter environment, please rerun this cell to show the HTML representation or trust the notebook. <br />On GitHub, the HTML representation is unable to render, please try loading this page with nbviewer.org.</b></div><div class=\"sk-container\" hidden><div class=\"sk-item\"><div class=\"sk-estimator sk-toggleable\"><input class=\"sk-toggleable__control sk-hidden--visually\" id=\"sk-estimator-id-1\" type=\"checkbox\" checked><label for=\"sk-estimator-id-1\" class=\"sk-toggleable__label sk-toggleable__label-arrow\">DecisionTreeClassifier</label><div class=\"sk-toggleable__content\"><pre>DecisionTreeClassifier(criterion=&#x27;entropy&#x27;, max_depth=3, random_state=0)</pre></div></div></div></div></div>"
      ],
      "text/plain": [
       "DecisionTreeClassifier(criterion='entropy', max_depth=3, random_state=0)"
      ]
     },
     "execution_count": 75,
     "metadata": {},
     "output_type": "execute_result"
    }
   ],
   "source": [
    "entropy = DecisionTreeClassifier(criterion = 'entropy', random_state = 0, max_depth=3)\n",
    "entropy.fit(x_train, y_train)\n"
   ]
  },
  {
   "cell_type": "code",
   "execution_count": 76,
   "id": "ff60e8dd-fcb6-48d4-957b-c6b111f43446",
   "metadata": {},
   "outputs": [],
   "source": [
    "y_pred =entropy.predict(x_test)\n",
    "y_pred3 = entropy.predict(x_train)"
   ]
  },
  {
   "cell_type": "code",
   "execution_count": 77,
   "id": "37dec320-f515-4c62-bbcf-57ac999c3955",
   "metadata": {},
   "outputs": [],
   "source": [
    "acc1=accuracy_score(y_test,y_pred)\n"
   ]
  },
  {
   "cell_type": "code",
   "execution_count": 78,
   "id": "67ea005a-b238-439b-9bcf-41d39cef5ea4",
   "metadata": {},
   "outputs": [
    {
     "data": {
      "text/plain": [
       "0.7901591895803184"
      ]
     },
     "execution_count": 78,
     "metadata": {},
     "output_type": "execute_result"
    }
   ],
   "source": [
    "accuracy_score(y_train,y_pred3)"
   ]
  },
  {
   "cell_type": "code",
   "execution_count": null,
   "id": "f74997cf-4ecd-438c-8292-709eb68d5c44",
   "metadata": {},
   "outputs": [],
   "source": []
  },
  {
   "cell_type": "code",
   "execution_count": null,
   "id": "a8593746-1330-4d21-9ab2-9eac91c95b53",
   "metadata": {},
   "outputs": [],
   "source": []
  },
  {
   "cell_type": "markdown",
   "id": "867b5e80-09ef-47b3-a191-1705780d0ea5",
   "metadata": {},
   "source": [
    "                                                        **RANDOM FOREST CLASSIFIER**"
   ]
  },
  {
   "cell_type": "code",
   "execution_count": 79,
   "id": "a009d4ba-bd8f-48bb-b927-3099198e8408",
   "metadata": {},
   "outputs": [],
   "source": [
    "rf_classifier = RandomForestClassifier(n_estimators=100)\n",
    "rf_classifier.fit(x_train, y_train)\n",
    "y_pred1 = rf_classifier.predict(x_test)\n",
    "y_pred2 = rf_classifier.predict(x_train)\n",
    "\n"
   ]
  },
  {
   "cell_type": "code",
   "execution_count": 80,
   "id": "316295d3-1d7a-47f7-9258-8a614bc02f61",
   "metadata": {},
   "outputs": [],
   "source": [
    "acc2=accuracy_score(y_test,y_pred1)"
   ]
  },
  {
   "cell_type": "code",
   "execution_count": 81,
   "id": "44081427-ed32-4047-aa7a-12a3baf8360e",
   "metadata": {},
   "outputs": [
    {
     "data": {
      "text/plain": [
       "1.0"
      ]
     },
     "execution_count": 81,
     "metadata": {},
     "output_type": "execute_result"
    }
   ],
   "source": [
    "accuracy_score(y_train,y_pred2)"
   ]
  },
  {
   "cell_type": "markdown",
   "id": "1d9c45a7-bd51-4b0a-bfd7-ca99ccbc70f1",
   "metadata": {},
   "source": [
    "                                                        "
   ]
  },
  {
   "cell_type": "markdown",
   "id": "96507060-2817-4968-abb9-4588ef0b9c0f",
   "metadata": {},
   "source": [
    "                                                          **Logistic Regression**"
   ]
  },
  {
   "cell_type": "code",
   "execution_count": 82,
   "id": "d8a33292-95b4-49b2-8970-fbd272589c6f",
   "metadata": {},
   "outputs": [],
   "source": [
    "logreg_classifier = LogisticRegression(max_iter=1000)\n",
    "logreg_classifier.fit(x_train, y_train)\n",
    "y_pred4 = logreg_classifier.predict(x_test)\n",
    "y_pred5 = logreg_classifier.predict(x_train)\n"
   ]
  },
  {
   "cell_type": "code",
   "execution_count": 83,
   "id": "90664050-a33c-4299-bebc-b0e0818e8d20",
   "metadata": {},
   "outputs": [],
   "source": [
    "acc3=accuracy_score(y_test, y_pred4)"
   ]
  },
  {
   "cell_type": "code",
   "execution_count": 84,
   "id": "bb949b2f-5ed5-4243-99df-e705cbe263bf",
   "metadata": {},
   "outputs": [
    {
     "data": {
      "text/plain": [
       "0.837192474674385"
      ]
     },
     "execution_count": 84,
     "metadata": {},
     "output_type": "execute_result"
    }
   ],
   "source": [
    "accuracy_score(y_train,y_pred5)"
   ]
  },
  {
   "cell_type": "code",
   "execution_count": null,
   "id": "f42f8858-ddcd-4781-ab84-bfc4000a6581",
   "metadata": {},
   "outputs": [],
   "source": []
  },
  {
   "cell_type": "markdown",
   "id": "7850434d-3bff-4c93-8ef8-15ed83e39f2c",
   "metadata": {},
   "source": [
    "                                                          **KNN CLASSFIER**"
   ]
  },
  {
   "cell_type": "code",
   "execution_count": 85,
   "id": "1226d628-284b-472b-9d2a-6acb7b4c087c",
   "metadata": {},
   "outputs": [],
   "source": [
    "knn_classifier = KNeighborsClassifier(n_neighbors=3)\n",
    "knn_classifier.fit(x_train, y_train)\n",
    "y_pred6 = knn_classifier.predict(x_test)\n",
    "y_pred7 = knn_classifier.predict(x_train)\n"
   ]
  },
  {
   "cell_type": "code",
   "execution_count": 86,
   "id": "bddeef95-36bd-4e3e-997f-4950e591f570",
   "metadata": {},
   "outputs": [],
   "source": [
    "acc4=accuracy_score(y_test, y_pred6)"
   ]
  },
  {
   "cell_type": "code",
   "execution_count": 87,
   "id": "32033078-3e64-4dd2-9e9b-9c448b5aea38",
   "metadata": {},
   "outputs": [
    {
     "data": {
      "text/plain": [
       "0.9500723589001447"
      ]
     },
     "execution_count": 87,
     "metadata": {},
     "output_type": "execute_result"
    }
   ],
   "source": [
    "accuracy_score(y_train,y_pred7)"
   ]
  },
  {
   "cell_type": "code",
   "execution_count": null,
   "id": "4028a768-9666-48c4-bba5-72fc1c743f4a",
   "metadata": {},
   "outputs": [],
   "source": []
  },
  {
   "cell_type": "markdown",
   "id": "ac2bb015-f965-4234-8888-e3213733ee72",
   "metadata": {},
   "source": [
    "                                                         **NAIVE BAYES CLASSIFIER**"
   ]
  },
  {
   "cell_type": "code",
   "execution_count": 88,
   "id": "15dd514a-11d6-4886-b7c2-90d39fa29aef",
   "metadata": {},
   "outputs": [],
   "source": [
    "naive_bayes_classifier = GaussianNB()\n",
    "naive_bayes_classifier.fit(x_train, y_train)\n",
    "y_pred8 = naive_bayes_classifier.predict(x_test)\n",
    "y_pred9= naive_bayes_classifier.predict(x_train)"
   ]
  },
  {
   "cell_type": "code",
   "execution_count": 89,
   "id": "fe0b6199-e025-4f79-893a-55a9c1e8ac61",
   "metadata": {},
   "outputs": [],
   "source": [
    "acc5=accuracy_score(y_test, y_pred8)"
   ]
  },
  {
   "cell_type": "code",
   "execution_count": 90,
   "id": "5077d88b-626c-448c-9795-f0e87e6160b7",
   "metadata": {},
   "outputs": [
    {
     "data": {
      "text/plain": [
       "0.7127351664254703"
      ]
     },
     "execution_count": 90,
     "metadata": {},
     "output_type": "execute_result"
    }
   ],
   "source": [
    "accuracy_score(y_train,y_pred9)"
   ]
  },
  {
   "cell_type": "code",
   "execution_count": null,
   "id": "4e78b6ad-73f9-4764-a711-456d8e585d75",
   "metadata": {},
   "outputs": [],
   "source": []
  },
  {
   "cell_type": "markdown",
   "id": "ed65ce54-0645-46d6-ab09-8cafdecb3745",
   "metadata": {},
   "source": [
    "                                                        **SVM**"
   ]
  },
  {
   "cell_type": "code",
   "execution_count": 91,
   "id": "07e784fb-0793-4f0b-a353-b771b1c143cf",
   "metadata": {},
   "outputs": [],
   "source": [
    "svm_classifier = SVC(kernel='poly')\n",
    "svm_classifier.fit(x_train, y_train)\n",
    "y_pred10 = svm_classifier.predict(x_test)\n",
    "y_pred11 = svm_classifier.predict(x_train)\n"
   ]
  },
  {
   "cell_type": "code",
   "execution_count": 92,
   "id": "36c21ad6-2f15-4e25-b56e-3c7def1c8795",
   "metadata": {},
   "outputs": [],
   "source": [
    "acc6=accuracy_score(y_test, y_pred10)"
   ]
  },
  {
   "cell_type": "code",
   "execution_count": 93,
   "id": "19e2b992-977b-4127-b288-2e815036681f",
   "metadata": {},
   "outputs": [
    {
     "data": {
      "text/plain": [
       "0.9782923299565847"
      ]
     },
     "execution_count": 93,
     "metadata": {},
     "output_type": "execute_result"
    }
   ],
   "source": [
    "accuracy_score(y_train,y_pred11)"
   ]
  },
  {
   "cell_type": "code",
   "execution_count": 94,
   "id": "88379694-8a6f-47cb-8a73-e9ae65a83599",
   "metadata": {},
   "outputs": [],
   "source": [
    "max_acc=max(acc1,acc2,acc3,acc4,acc5,acc6)"
   ]
  },
  {
   "cell_type": "code",
   "execution_count": 95,
   "id": "5daef5c2-1f35-4bf7-881a-cc4d90ac1189",
   "metadata": {},
   "outputs": [
    {
     "name": "stdout",
     "output_type": "stream",
     "text": [
      "Maximum accuracy obtained is 97.97687861271676%\n"
     ]
    }
   ],
   "source": [
    "print(f\"Maximum accuracy obtained is {max_acc *100}%\")"
   ]
  },
  {
   "cell_type": "code",
   "execution_count": null,
   "id": "101b661b-4ab8-4131-b233-0cf8b2e7cc58",
   "metadata": {},
   "outputs": [],
   "source": []
  },
  {
   "cell_type": "code",
   "execution_count": 96,
   "id": "011d2d61-75ed-4568-9a31-0de2c6a4c73e",
   "metadata": {},
   "outputs": [],
   "source": [
    "precision = precision_score(y_test, y_pred10,average=\"macro\")"
   ]
  },
  {
   "cell_type": "code",
   "execution_count": 97,
   "id": "65e30d74-fa78-4881-a7bf-c89f6d663d1a",
   "metadata": {},
   "outputs": [
    {
     "data": {
      "text/plain": [
       "0.9463749116991795"
      ]
     },
     "execution_count": 97,
     "metadata": {},
     "output_type": "execute_result"
    }
   ],
   "source": [
    "precision"
   ]
  },
  {
   "cell_type": "code",
   "execution_count": 98,
   "id": "7c87cec8-7c5c-415a-b878-7716c9ccc23a",
   "metadata": {},
   "outputs": [],
   "source": [
    "recall = recall_score(y_test,y_pred10, average='macro')\n"
   ]
  },
  {
   "cell_type": "code",
   "execution_count": 99,
   "id": "73eb22b1-05d6-4006-a696-fdc5a9309a73",
   "metadata": {},
   "outputs": [
    {
     "data": {
      "text/plain": [
       "0.9768459915611815"
      ]
     },
     "execution_count": 99,
     "metadata": {},
     "output_type": "execute_result"
    }
   ],
   "source": [
    "recall"
   ]
  },
  {
   "cell_type": "code",
   "execution_count": 100,
   "id": "09723c8d-340d-49f2-818e-d468696a6a67",
   "metadata": {},
   "outputs": [],
   "source": [
    "f1 = f1_score(y_test, y_pred10, average='macro')"
   ]
  },
  {
   "cell_type": "code",
   "execution_count": 101,
   "id": "9b9e0f05-3108-47a5-9d54-3c4240f5b1f4",
   "metadata": {},
   "outputs": [
    {
     "data": {
      "text/plain": [
       "0.9600506440276795"
      ]
     },
     "execution_count": 101,
     "metadata": {},
     "output_type": "execute_result"
    }
   ],
   "source": [
    "f1"
   ]
  },
  {
   "cell_type": "code",
   "execution_count": null,
   "id": "aa597851-a93f-47ab-9f56-c80b0b934542",
   "metadata": {},
   "outputs": [],
   "source": []
  },
  {
   "cell_type": "code",
   "execution_count": 103,
   "id": "57af075b-9541-49c8-b13d-aa9c3ae14232",
   "metadata": {},
   "outputs": [],
   "source": [
    "cm = confusion_matrix(y_test, y_pred10)"
   ]
  },
  {
   "cell_type": "code",
   "execution_count": 104,
   "id": "271cb5f4-381e-433a-be06-6a697548e29d",
   "metadata": {},
   "outputs": [
    {
     "data": {
      "text/plain": [
       "array([[236,   4,   0,   0],\n",
       "       [  3,  73,   0,   3],\n",
       "       [  0,   0,  10,   0],\n",
       "       [  0,   0,   0,  17]])"
      ]
     },
     "execution_count": 104,
     "metadata": {},
     "output_type": "execute_result"
    }
   ],
   "source": [
    "cm"
   ]
  },
  {
   "cell_type": "code",
   "execution_count": 106,
   "id": "db1fa5f9-10e1-4cc2-a82c-f0d0eedc4b5f",
   "metadata": {},
   "outputs": [],
   "source": [
    "classification_rep = classification_report(y_test,y_pred10)"
   ]
  },
  {
   "cell_type": "code",
   "execution_count": 109,
   "id": "1cd3a321-895f-4fa9-8cdd-006a42b9f7ed",
   "metadata": {},
   "outputs": [
    {
     "name": "stdout",
     "output_type": "stream",
     "text": [
      "              precision    recall  f1-score   support\n",
      "\n",
      "           1       0.99      0.98      0.99       240\n",
      "           2       0.95      0.92      0.94        79\n",
      "           3       1.00      1.00      1.00        10\n",
      "           4       0.85      1.00      0.92        17\n",
      "\n",
      "    accuracy                           0.97       346\n",
      "   macro avg       0.95      0.98      0.96       346\n",
      "weighted avg       0.97      0.97      0.97       346\n",
      "\n"
     ]
    }
   ],
   "source": [
    "print(classification_rep)"
   ]
  },
  {
   "cell_type": "code",
   "execution_count": null,
   "id": "4f36587d-321f-47d8-a6d8-522b58c366c7",
   "metadata": {},
   "outputs": [],
   "source": []
  },
  {
   "cell_type": "markdown",
   "id": "90be9ca9-18c3-4039-bdd3-fca5027f5012",
   "metadata": {},
   "source": [
    "                                                       ATTRIBUTE DESCRIPTION"
   ]
  },
  {
   "cell_type": "code",
   "execution_count": null,
   "id": "3b9cc486-5974-4b0f-a862-dc0aa0fce566",
   "metadata": {},
   "outputs": [],
   "source": []
  },
  {
   "cell_type": "markdown",
   "id": "288f29ff-924e-44f3-bb88-3f1bf3223abd",
   "metadata": {},
   "source": [
    "The dataset consists of six attributes (features) and one target variable (class label)."
   ]
  },
  {
   "cell_type": "markdown",
   "id": "af1a3252-a6c8-4318-b5a6-94384bd12647",
   "metadata": {},
   "source": [
    "1.Buying Price:  It represents the buying price of the car."
   ]
  },
  {
   "cell_type": "markdown",
   "id": "bba7597a-7168-4639-8566-7637b596ae27",
   "metadata": {},
   "source": [
    "2.Maintenance Price:It indicates the estimated maintenance cost of the car."
   ]
  },
  {
   "cell_type": "markdown",
   "id": "162a536a-b3b5-479f-bebd-67b523b2d1ba",
   "metadata": {},
   "source": [
    "3.Number of Doors: It represents the number of doors in the car."
   ]
  },
  {
   "cell_type": "markdown",
   "id": "f519f6ef-5389-4587-9ba6-08625681bd07",
   "metadata": {},
   "source": [
    "4.Capacity:  It indicates the passenger capacity or seating capacity of the car"
   ]
  },
  {
   "cell_type": "markdown",
   "id": "542f3119-38c4-4c59-ab74-29e5832a7f9d",
   "metadata": {},
   "source": [
    "5.Luggage Capacity: It represents the size of the luggage compartment in the car."
   ]
  },
  {
   "cell_type": "markdown",
   "id": "9a6da1b7-d1b4-4343-97b7-a34a5d13d022",
   "metadata": {},
   "source": [
    "6.Safety: It indicates the safety rating of the car."
   ]
  },
  {
   "cell_type": "markdown",
   "id": "5632dee7-7ca5-4e37-a00a-1feb964b12c3",
   "metadata": {},
   "source": [
    "7.Class Label (Target):It is a categorical attribute indicating the acceptability level of the car."
   ]
  }
 ],
 "metadata": {
  "kernelspec": {
   "display_name": "Python 3 (ipykernel)",
   "language": "python",
   "name": "python3"
  },
  "language_info": {
   "codemirror_mode": {
    "name": "ipython",
    "version": 3
   },
   "file_extension": ".py",
   "mimetype": "text/x-python",
   "name": "python",
   "nbconvert_exporter": "python",
   "pygments_lexer": "ipython3",
   "version": "3.10.8"
  }
 },
 "nbformat": 4,
 "nbformat_minor": 5
}
